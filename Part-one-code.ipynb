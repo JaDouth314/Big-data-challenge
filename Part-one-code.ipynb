{
  "cells": [
    {
      "cell_type": "markdown",
      "metadata": {
        "id": "view-in-github",
        "colab_type": "text"
      },
      "source": [
        "<a href=\"https://colab.research.google.com/github/JaDouth314/Big-data-challenge/blob/main/Part-one-code.ipynb\" target=\"_parent\"><img src=\"https://colab.research.google.com/assets/colab-badge.svg\" alt=\"Open In Colab\"/></a>"
      ]
    },
    {
      "cell_type": "code",
      "execution_count": 2,
      "metadata": {
        "id": "5WosHdRWdmpw",
        "colab": {
          "base_uri": "https://localhost:8080/"
        },
        "outputId": "44b4c647-9263-480a-eb5c-ea3bd6e7a4a0"
      },
      "outputs": [
        {
          "output_type": "stream",
          "name": "stdout",
          "text": [
            "\r0% [Working]\r            \rHit:1 http://archive.ubuntu.com/ubuntu bionic InRelease\n",
            "\r0% [Waiting for headers] [Connecting to security.ubuntu.com (185.125.190.39)] [\r                                                                               \rGet:2 http://archive.ubuntu.com/ubuntu bionic-updates InRelease [88.7 kB]\n",
            "\r                                                                               \rGet:3 https://cloud.r-project.org/bin/linux/ubuntu bionic-cran40/ InRelease [3,626 B]\n",
            "\r                                                                               \rIgn:4 https://developer.download.nvidia.com/compute/machine-learning/repos/ubuntu1804/x86_64  InRelease\n",
            "\r                                                                               \rGet:5 https://developer.download.nvidia.com/compute/cuda/repos/ubuntu1804/x86_64  InRelease [1,581 B]\n",
            "\r0% [Waiting for headers] [Waiting for headers] [Connecting to ppa.launchpad.net\r0% [1 InRelease gpgv 242 kB] [Waiting for headers] [Waiting for headers] [Conne\r                                                                               \rGet:6 http://archive.ubuntu.com/ubuntu bionic-backports InRelease [83.3 kB]\n",
            "\r0% [1 InRelease gpgv 242 kB] [6 InRelease 5,498 B/83.3 kB 7%] [Waiting for head\r                                                                               \rGet:7 http://security.ubuntu.com/ubuntu bionic-security InRelease [88.7 kB]\n",
            "Hit:8 https://developer.download.nvidia.com/compute/machine-learning/repos/ubuntu1804/x86_64  Release\n",
            "Hit:9 http://ppa.launchpad.net/c2d4u.team/c2d4u4.0+/ubuntu bionic InRelease\n",
            "Hit:10 http://ppa.launchpad.net/cran/libgit2/ubuntu bionic InRelease\n",
            "Hit:11 http://ppa.launchpad.net/deadsnakes/ppa/ubuntu bionic InRelease\n",
            "Get:12 http://ppa.launchpad.net/graphics-drivers/ppa/ubuntu bionic InRelease [21.3 kB]\n",
            "Get:13 http://archive.ubuntu.com/ubuntu bionic-updates/universe amd64 Packages [2,338 kB]\n",
            "Get:14 http://archive.ubuntu.com/ubuntu bionic-updates/restricted amd64 Packages [1,303 kB]\n",
            "Get:15 http://archive.ubuntu.com/ubuntu bionic-updates/main amd64 Packages [3,497 kB]\n",
            "Get:16 https://developer.download.nvidia.com/compute/cuda/repos/ubuntu1804/x86_64  Packages [1,038 kB]\n",
            "Get:18 http://security.ubuntu.com/ubuntu bionic-security/universe amd64 Packages [1,563 kB]\n",
            "Get:19 http://security.ubuntu.com/ubuntu bionic-security/main amd64 Packages [3,071 kB]\n",
            "Get:20 http://security.ubuntu.com/ubuntu bionic-security/restricted amd64 Packages [1,262 kB]\n",
            "Get:21 http://ppa.launchpad.net/graphics-drivers/ppa/ubuntu bionic/main amd64 Packages [38.5 kB]\n",
            "Fetched 14.4 MB in 7s (2,083 kB/s)\n",
            "Reading package lists... Done\n"
          ]
        }
      ],
      "source": [
        "import os\n",
        "# Find the latest version of spark 3.2.x  from http://www.apache.org/dist/spark/ and enter as the spark version\n",
        "spark_version = 'spark-3.2.3'\n",
        "\n",
        "os.environ['SPARK_VERSION']=spark_version\n",
        "\n",
        "# Install Spark and Java\n",
        "!apt-get update\n",
        "!apt-get install openjdk-8-jdk-headless -qq > /dev/null\n",
        "!wget -q http://www.apache.org/dist/spark/$SPARK_VERSION/$SPARK_VERSION-bin-hadoop2.7.tgz\n",
        "!tar xf $SPARK_VERSION-bin-hadoop2.7.tgz\n",
        "!pip install -q findspark\n",
        "\n",
        "# Set Environment Variables\n",
        "os.environ[\"JAVA_HOME\"] = \"/usr/lib/jvm/java-8-openjdk-amd64\"\n",
        "os.environ[\"SPARK_HOME\"] = f\"/content/{spark_version}-bin-hadoop2.7\"\n",
        "\n",
        "# Start a SparkSession\n",
        "import findspark\n",
        "findspark.init()"
      ]
    },
    {
      "cell_type": "code",
      "execution_count": 1,
      "metadata": {
        "id": "xISV-9eR6Yah",
        "outputId": "b84d0c50-391b-4117-cc83-7322bc3d7903",
        "colab": {
          "base_uri": "https://localhost:8080/"
        }
      },
      "outputs": [
        {
          "output_type": "stream",
          "name": "stdout",
          "text": [
            "--2022-11-29 22:51:50--  https://jdbc.postgresql.org/download/postgresql-42.2.9.jar\n",
            "Resolving jdbc.postgresql.org (jdbc.postgresql.org)... 72.32.157.228, 2001:4800:3e1:1::228\n",
            "Connecting to jdbc.postgresql.org (jdbc.postgresql.org)|72.32.157.228|:443... connected.\n",
            "HTTP request sent, awaiting response... 200 OK\n",
            "Length: 914037 (893K) [application/java-archive]\n",
            "Saving to: ‘postgresql-42.2.9.jar’\n",
            "\n",
            "postgresql-42.2.9.j 100%[===================>] 892.61K  --.-KB/s    in 0.08s   \n",
            "\n",
            "2022-11-29 22:51:51 (10.5 MB/s) - ‘postgresql-42.2.9.jar’ saved [914037/914037]\n",
            "\n"
          ]
        }
      ],
      "source": [
        "# Install the PostgreSQL driver in our Colab environment\n",
        "!wget https://jdbc.postgresql.org/download/postgresql-42.2.9.jar"
      ]
    },
    {
      "cell_type": "code",
      "execution_count": 3,
      "metadata": {
        "id": "aEQFTWiV6g2h"
      },
      "outputs": [],
      "source": [
        "# Establish a Spark session and add the Postgres driver to the filepath\n",
        "from pyspark.sql import SparkSession\n",
        "spark = SparkSession.builder.appName(\"CloudETL\").config(\"spark.driver.extraClassPath\",\"/content/postgresql-42.2.9.jar\").getOrCreate()"
      ]
    },
    {
      "cell_type": "code",
      "execution_count": 14,
      "metadata": {
        "id": "qik6uGSV9BWa",
        "outputId": "e9973568-f184-406c-d4e3-398ac630e1ed",
        "colab": {
          "base_uri": "https://localhost:8080/"
        }
      },
      "outputs": [
        {
          "output_type": "stream",
          "name": "stdout",
          "text": [
            "+-----------+-----------+--------------+----------+--------------+--------------------+----------------+-----------+-------------+-----------+----+-----------------+--------------------+--------------------+-----------+\n",
            "|marketplace|customer_id|     review_id|product_id|product_parent|       product_title|product_category|star_rating|helpful_votes|total_votes|vine|verified_purchase|     review_headline|         review_body|review_date|\n",
            "+-----------+-----------+--------------+----------+--------------+--------------------+----------------+-----------+-------------+-----------+----+-----------------+--------------------+--------------------+-----------+\n",
            "|         US|   12039526| RTIS3L2M1F5SM|B001CXYMFS|     737716809|Thrustmaster T-Fl...|     Video Games|          5|            0|          0|   N|                Y|an amazing joysti...|Used this for Eli...| 2015-08-31|\n",
            "|         US|    9636577| R1ZV7R40OLHKD|B00M920ND6|     569686175|Tonsee 6 buttons ...|     Video Games|          5|            0|          0|   N|                Y|Definitely a sile...|Loved it,  I didn...| 2015-08-31|\n",
            "|         US|    2331478|R3BH071QLH8QMC|B0029CSOD2|      98937668|Hidden Mysteries:...|     Video Games|          1|            0|          1|   N|                Y|            One Star|poor quality work...| 2015-08-31|\n",
            "|         US|   52495923|R127K9NTSXA2YH|B00GOOSV98|      23143350|GelTabz Performan...|     Video Games|          3|            0|          0|   N|                Y|good, but could b...|nice, but tend to...| 2015-08-31|\n",
            "|         US|   14533949|R32ZWUXDJPW27Q|B00Y074JOM|     821342511|Zero Suit Samus a...|     Video Games|          4|            0|          0|   N|                Y|   Great but flawed.|Great amiibo, gre...| 2015-08-31|\n",
            "|         US|    2377552|R3AQQ4YUKJWBA6|B002UBI6W6|     328764615|Psyclone Recharge...|     Video Games|          1|            0|          0|   N|                Y|            One Star|The remote consta...| 2015-08-31|\n",
            "|         US|   17521011|R2F0POU5K6F73F|B008XHCLFO|      24234603|Protection for yo...|     Video Games|          5|            0|          0|   N|                Y|              A Must|I have a 2012-201...| 2015-08-31|\n",
            "|         US|   19676307|R3VNR804HYSMR6|B00BRA9R6A|     682267517|   Nerf 3DS XL Armor|     Video Games|          5|            0|          0|   N|                Y|          Five Stars|Perfect, kids lov...| 2015-08-31|\n",
            "|         US|     224068| R3GZTM72WA2QH|B009EPWJLA|     435241890|One Piece: Pirate...|     Video Games|          5|            0|          0|   N|                Y|          Five Stars|            Excelent| 2015-08-31|\n",
            "|         US|   48467989| RNQOY62705W1K|B0000AV7GB|     256572651|Playstation 2 Dan...|     Video Games|          4|            0|          0|   N|                Y|          Four Stars|Slippery but expe...| 2015-08-31|\n",
            "|         US|     106569|R1VTIA3JTYBY02|B00008KTNN|     384411423|Metal Arms: Glitc...|     Video Games|          5|            0|          0|   N|                N|          Five Stars|Love the game. Se...| 2015-08-31|\n",
            "|         US|   48269642|R29DOU8791QZL8|B000A3IA0Y|     472622859|72 Pin Connector ...|     Video Games|          1|            0|          0|   N|                Y| Game will get stuck|Does not fit prop...| 2015-08-31|\n",
            "|         US|   52738710|R15DUT1VIJ9RJZ|B0053BQN34|     577628462|uDraw Gametablet ...|     Video Games|          2|            0|          0|   N|                Y|We have tried it ...|This was way too ...| 2015-08-31|\n",
            "|         US|   10556786|R3IMF2MQ3OU9ZM|B002I0HIMI|     988218515|NBA 2K12(Covers M...|     Video Games|          4|            0|          0|   N|                Y|          Four Stars|Works great good ...| 2015-08-31|\n",
            "|         US|    2963837|R23H79DHOZTYAU|B0081EH12M|     770100932|New Trigger Grips...|     Video Games|          1|            1|          1|   N|                Y|Now i have to buy...|It did not fit th...| 2015-08-31|\n",
            "|         US|   23092109| RIV24EQAIXA4O|B005FMLZQQ|      24647669|Xbox 360 Media Re...|     Video Games|          5|            0|          0|   N|                Y|          Five Stars|perfect lightweig...| 2015-08-31|\n",
            "|         US|   23091728|R3UCNGYDVN24YB|B002BSA388|      33706205|Super Mario Galaxy 2|     Video Games|          5|            0|          0|   N|                Y|          Five Stars|               great| 2015-08-31|\n",
            "|         US|   10712640| RUL4H4XTTN2DY|B00BUSLSAC|     829667834|Nintendo 3DS XL -...|     Video Games|          5|            0|          0|   N|                Y|          Five Stars|Works beautifully...| 2015-08-31|\n",
            "|         US|   17455376|R20JF7Z4DHTNX5|B00KWF38AW|     110680188|Captain Toad:  Tr...|     Video Games|          5|            0|          0|   N|                Y|          Five Stars|Kids loved the ga...| 2015-08-31|\n",
            "|         US|   14754850|R2T1AJ5MFI2260|B00BRQJYA8|     616463426|Lego Batman 2: DC...|     Video Games|          4|            0|          0|   N|                Y|          Four Stars|           Goodngame| 2015-08-31|\n",
            "+-----------+-----------+--------------+----------+--------------+--------------------+----------------+-----------+-------------+-----------+----+-----------------+--------------------+--------------------+-----------+\n",
            "only showing top 20 rows\n",
            "\n"
          ]
        }
      ],
      "source": [
        "# Read the review dataset\n",
        "from pyspark import SparkFiles\n",
        "url = \"https://s3.amazonaws.com/amazon-reviews-pds/tsv/amazon_reviews_us_Video_Games_v1_00.tsv.gz\"\n",
        "spark.sparkContext.addFile(url)\n",
        "review_df = spark.read.csv(SparkFiles.get(\"amazon_reviews_us_Video_Games_v1_00.tsv.gz\"), sep=\"\\t\", header=True, inferSchema=True)\n",
        "\n",
        "# Show DataFrame\n",
        "review_df.show()"
      ]
    },
    {
      "cell_type": "code",
      "execution_count": 5,
      "metadata": {
        "id": "RzqGVnoNd-d8",
        "outputId": "9bd7b7f6-47e7-4d01-e23c-fff5b85ebab8",
        "colab": {
          "base_uri": "https://localhost:8080/"
        }
      },
      "outputs": [
        {
          "output_type": "stream",
          "name": "stdout",
          "text": [
            "+----------+----------+--------------------+\n",
            "|billing_id|  username|        cc_encrypted|\n",
            "+----------+----------+--------------------+\n",
            "|         1|   atuvey0|e1a4f985f7607bbae...|\n",
            "|         2| bfrancke1|e1a4f985f7607bbae...|\n",
            "|         3|   dduffy2|e1a4f985f7607bbae...|\n",
            "|         4|   zsaker3|e1a4f985f7607bbae...|\n",
            "|         5|   jargue4|e1a4f985f7607bbae...|\n",
            "|         6|jcreeghan5|e1a4f985f7607bbae...|\n",
            "|         7|  mrapley6|e1a4f985f7607bbae...|\n",
            "|         8|    agant7|e1a4f985f7607bbae...|\n",
            "|         9|  bgummow8|e1a4f985f7607bbae...|\n",
            "|        10| nhaughin9|e1a4f985f7607bbae...|\n",
            "|        11| sjurczika|e1a4f985f7607bbae...|\n",
            "|        12|  knuschab|e1a4f985f7607bbae...|\n",
            "|        13|   rantonc|e1a4f985f7607bbae...|\n",
            "|        14|     jtodd|e1a4f985f7607bbae...|\n",
            "|        15| dswinneye|e1a4f985f7607bbae...|\n",
            "|        16|  ufernanf|e1a4f985f7607bbae...|\n",
            "|        17|  ajoshamg|e1a4f985f7607bbae...|\n",
            "|        18|cstiddardh|e1a4f985f7607bbae...|\n",
            "|        19| mblizardi|e1a4f985f7607bbae...|\n",
            "|        20| gabsolonj|e1a4f985f7607bbae...|\n",
            "+----------+----------+--------------------+\n",
            "only showing top 20 rows\n",
            "\n"
          ]
        }
      ],
      "source": [
        "# Read the next CSV file from an S3 bucket\n",
        "url = 'https://2u-data-curriculum-team.s3.amazonaws.com/dataviz-classroom/v1.1/22-big-data/day_3/user_payment.csv'\n",
        "spark.sparkContext.addFile(url)\n",
        "user_payment_df = spark.read.csv(SparkFiles.get(\"user_payment.csv\"), sep=\",\", header=True, inferSchema=True)\n",
        "\n",
        "# Rename the id column to billing_id\n",
        "user_payment_df = user_payment_df.withColumnRenamed(\"id\", \"billing_id\")\n",
        "\n",
        "# Show DataFrame\n",
        "user_payment_df.show()"
      ]
    },
    {
      "cell_type": "code",
      "execution_count": 6,
      "metadata": {
        "id": "GoN3Gyb4fkhC",
        "outputId": "860e32b8-b362-4423-e858-25c1b5ec5aff",
        "colab": {
          "base_uri": "https://localhost:8080/"
        }
      },
      "outputs": [
        {
          "output_type": "stream",
          "name": "stdout",
          "text": [
            "+----------+---+----------+---------+-----------+--------------------+--------------------+----------+--------------------+\n",
            "|  username| id|first_name|last_name|active_user|      street_address|               state|billing_id|        cc_encrypted|\n",
            "+----------+---+----------+---------+-----------+--------------------+--------------------+----------+--------------------+\n",
            "|   atuvey0|  1|      Andy|    Tuvey|      false| 12376 Darwin Circle|            New York|         1|e1a4f985f7607bbae...|\n",
            "| bfrancke1|  2|   Bastian|  Francke|       true|14034 Summerview ...|          Washington|         2|e1a4f985f7607bbae...|\n",
            "|   dduffy2|  3|    Dallis|    Duffy|      false| 8 Autumn Leaf Court|                Ohio|         3|e1a4f985f7607bbae...|\n",
            "|   zsaker3|  4|      Zena|    Saker|       true|      3605 Gina Park|          California|         4|e1a4f985f7607bbae...|\n",
            "|   jargue4|  5|      Jere|    Argue|       true|        8 Hauk Court|          New Jersey|         5|e1a4f985f7607bbae...|\n",
            "|jcreeghan5|  6|    Jethro| Creeghan|       true|29047 Internation...|               Texas|         6|e1a4f985f7607bbae...|\n",
            "|  mrapley6|  7|  Meridith|   Rapley|      false|95258 Stuart Terrace|             Indiana|         7|e1a4f985f7607bbae...|\n",
            "|    agant7|  8| Anastasie|     Gant|       true|   4193 Dexter Drive|            Michigan|         8|e1a4f985f7607bbae...|\n",
            "|  bgummow8|  9|    Berkly|   Gummow|      false|7581 Northfield P...|          New Mexico|         9|e1a4f985f7607bbae...|\n",
            "| nhaughin9| 10| Nicolette|  Haughin|      false|      6 Hooker Court|             Florida|        10|e1a4f985f7607bbae...|\n",
            "| sjurczika| 11|   Sheelah|  Jurczik|      false|   6 Porter Crossing|          New Mexico|        11|e1a4f985f7607bbae...|\n",
            "|  knuschab| 12|     Klaus|   Nuscha|      false|    37206 Dwight Way|              Kansas|        12|e1a4f985f7607bbae...|\n",
            "|   rantonc| 13|      Roth|    Anton|       true|  143 Garrison Drive|District of Columbia|        13|e1a4f985f7607bbae...|\n",
            "|     jtodd| 14|     Jareb|      Tod|       true|      468 Vidon Lane|           Tennessee|        14|e1a4f985f7607bbae...|\n",
            "| dswinneye| 15|      Dill|  Swinney|      false|    28 Pearson Point|              Oregon|        15|e1a4f985f7607bbae...|\n",
            "|  ufernanf| 16|      Ulla|   Fernan|      false|   13 Fairview Alley|            Michigan|        16|e1a4f985f7607bbae...|\n",
            "|  ajoshamg| 17|     Aksel|   Josham|      false| 08040 Scoville Hill|            Virginia|        17|e1a4f985f7607bbae...|\n",
            "|cstiddardh| 18|    Carney| Stiddard|       true|93776 Twin Pines ...|               Texas|        18|e1a4f985f7607bbae...|\n",
            "| mblizardi| 19|    Milzie|  Blizard|       true|      4 Corscot Park|            Kentucky|        19|e1a4f985f7607bbae...|\n",
            "| gabsolonj| 20|     Giffy|  Absolon|      false|   335 Clemons Drive|             Georgia|        20|e1a4f985f7607bbae...|\n",
            "+----------+---+----------+---------+-----------+--------------------+--------------------+----------+--------------------+\n",
            "only showing top 20 rows\n",
            "\n"
          ]
        }
      ],
      "source": [
        "# Join the two DataFrames \n",
        "joined_df= user_data_df.join(user_payment_df, on=\"username\", how=\"inner\")\n",
        "joined_df.show()"
      ]
    },
    {
      "cell_type": "code",
      "execution_count": 7,
      "metadata": {
        "id": "rtDndjrdlh83",
        "outputId": "2cbcb21c-5ca4-4784-edc2-ed8557e1c5c7",
        "colab": {
          "base_uri": "https://localhost:8080/"
        }
      },
      "outputs": [
        {
          "output_type": "stream",
          "name": "stdout",
          "text": [
            "+----------+---+----------+---------+-----------+--------------------+--------------------+----------+--------------------+\n",
            "|  username| id|first_name|last_name|active_user|      street_address|               state|billing_id|        cc_encrypted|\n",
            "+----------+---+----------+---------+-----------+--------------------+--------------------+----------+--------------------+\n",
            "|   atuvey0|  1|      Andy|    Tuvey|      false| 12376 Darwin Circle|            New York|         1|e1a4f985f7607bbae...|\n",
            "| bfrancke1|  2|   Bastian|  Francke|       true|14034 Summerview ...|          Washington|         2|e1a4f985f7607bbae...|\n",
            "|   dduffy2|  3|    Dallis|    Duffy|      false| 8 Autumn Leaf Court|                Ohio|         3|e1a4f985f7607bbae...|\n",
            "|   zsaker3|  4|      Zena|    Saker|       true|      3605 Gina Park|          California|         4|e1a4f985f7607bbae...|\n",
            "|   jargue4|  5|      Jere|    Argue|       true|        8 Hauk Court|          New Jersey|         5|e1a4f985f7607bbae...|\n",
            "|jcreeghan5|  6|    Jethro| Creeghan|       true|29047 Internation...|               Texas|         6|e1a4f985f7607bbae...|\n",
            "|  mrapley6|  7|  Meridith|   Rapley|      false|95258 Stuart Terrace|             Indiana|         7|e1a4f985f7607bbae...|\n",
            "|    agant7|  8| Anastasie|     Gant|       true|   4193 Dexter Drive|            Michigan|         8|e1a4f985f7607bbae...|\n",
            "|  bgummow8|  9|    Berkly|   Gummow|      false|7581 Northfield P...|          New Mexico|         9|e1a4f985f7607bbae...|\n",
            "| nhaughin9| 10| Nicolette|  Haughin|      false|      6 Hooker Court|             Florida|        10|e1a4f985f7607bbae...|\n",
            "| sjurczika| 11|   Sheelah|  Jurczik|      false|   6 Porter Crossing|          New Mexico|        11|e1a4f985f7607bbae...|\n",
            "|  knuschab| 12|     Klaus|   Nuscha|      false|    37206 Dwight Way|              Kansas|        12|e1a4f985f7607bbae...|\n",
            "|   rantonc| 13|      Roth|    Anton|       true|  143 Garrison Drive|District of Columbia|        13|e1a4f985f7607bbae...|\n",
            "|     jtodd| 14|     Jareb|      Tod|       true|      468 Vidon Lane|           Tennessee|        14|e1a4f985f7607bbae...|\n",
            "| dswinneye| 15|      Dill|  Swinney|      false|    28 Pearson Point|              Oregon|        15|e1a4f985f7607bbae...|\n",
            "|  ufernanf| 16|      Ulla|   Fernan|      false|   13 Fairview Alley|            Michigan|        16|e1a4f985f7607bbae...|\n",
            "|  ajoshamg| 17|     Aksel|   Josham|      false| 08040 Scoville Hill|            Virginia|        17|e1a4f985f7607bbae...|\n",
            "|cstiddardh| 18|    Carney| Stiddard|       true|93776 Twin Pines ...|               Texas|        18|e1a4f985f7607bbae...|\n",
            "| mblizardi| 19|    Milzie|  Blizard|       true|      4 Corscot Park|            Kentucky|        19|e1a4f985f7607bbae...|\n",
            "| gabsolonj| 20|     Giffy|  Absolon|      false|   335 Clemons Drive|             Georgia|        20|e1a4f985f7607bbae...|\n",
            "+----------+---+----------+---------+-----------+--------------------+--------------------+----------+--------------------+\n",
            "only showing top 20 rows\n",
            "\n"
          ]
        }
      ],
      "source": [
        "# Drop null values\n",
        "dropna_df = joined_df.dropna(how='any')\n",
        "dropna_df.show()"
      ]
    },
    {
      "cell_type": "code",
      "execution_count": 8,
      "metadata": {
        "id": "bjEBAydllvCg",
        "outputId": "17984fe2-8ac2-485c-eecd-33f8d8b40d42",
        "colab": {
          "base_uri": "https://localhost:8080/"
        }
      },
      "outputs": [
        {
          "output_type": "stream",
          "name": "stdout",
          "text": [
            "+------------+---+----------+----------+-----------+--------------------+--------------------+----------+--------------------+\n",
            "|    username| id|first_name| last_name|active_user|      street_address|               state|billing_id|        cc_encrypted|\n",
            "+------------+---+----------+----------+-----------+--------------------+--------------------+----------+--------------------+\n",
            "|   bfrancke1|  2|   Bastian|   Francke|       true|14034 Summerview ...|          Washington|         2|e1a4f985f7607bbae...|\n",
            "|     zsaker3|  4|      Zena|     Saker|       true|      3605 Gina Park|          California|         4|e1a4f985f7607bbae...|\n",
            "|     jargue4|  5|      Jere|     Argue|       true|        8 Hauk Court|          New Jersey|         5|e1a4f985f7607bbae...|\n",
            "|  jcreeghan5|  6|    Jethro|  Creeghan|       true|29047 Internation...|               Texas|         6|e1a4f985f7607bbae...|\n",
            "|      agant7|  8| Anastasie|      Gant|       true|   4193 Dexter Drive|            Michigan|         8|e1a4f985f7607bbae...|\n",
            "|     rantonc| 13|      Roth|     Anton|       true|  143 Garrison Drive|District of Columbia|        13|e1a4f985f7607bbae...|\n",
            "|       jtodd| 14|     Jareb|       Tod|       true|      468 Vidon Lane|           Tennessee|        14|e1a4f985f7607bbae...|\n",
            "|  cstiddardh| 18|    Carney|  Stiddard|       true|93776 Twin Pines ...|               Texas|        18|e1a4f985f7607bbae...|\n",
            "|   mblizardi| 19|    Milzie|   Blizard|       true|      4 Corscot Park|            Kentucky|        19|e1a4f985f7607bbae...|\n",
            "|     cdaviol| 22|     Chuck|     Davio|       true|       33 Elka Trail|              Nevada|        22|e1a4f985f7607bbae...|\n",
            "|      mpacko| 25|    Maisie|      Pack|       true|0407 Northfield P...|           Minnesota|        25|e1a4f985f7607bbae...|\n",
            "|   tsperingq| 27|   Trueman|   Spering|       true|98 Rockefeller Pa...|             Florida|        27|e1a4f985f7607bbae...|\n",
            "|  rgascoyenr| 28|   Rosalyn|  Gascoyen|       true|27211 Trailsway D...|            Delaware|        28|e1a4f985f7607bbae...|\n",
            "|     lbaseys| 29|       Lev|     Basey|       true|  6300 Dunning Trail|          California|        29|e1a4f985f7607bbae...|\n",
            "|   jmcphailv| 32|      Jean|   McPhail|       true|  397 Anderson Plaza|             Florida|        32|e1a4f985f7607bbae...|\n",
            "|   rmacvainw| 33|    Robbyn|   Macvain|       true|   630 Texas Parkway|          Washington|        33|e1a4f985f7607bbae...|\n",
            "|    bdegreyy| 35|    Binnie|   de Grey|       true|     8 Lien Crossing|            Oklahoma|        35|e1a4f985f7607bbae...|\n",
            "|phindenburgz| 36|   Phineas|Hindenburg|       true|  5865 Fulton Circle|            Kentucky|        36|e1a4f985f7607bbae...|\n",
            "|  ptugwell10| 37|   Pandora|   Tugwell|       true|   85 Killdeer Place|            Missouri|        37|e1a4f985f7607bbae...|\n",
            "|   djeduch11| 38|    Dugald|    Jeduch|       true|9037 Cherokee Street|        Pennsylvania|        38|e1a4f985f7607bbae...|\n",
            "+------------+---+----------+----------+-----------+--------------------+--------------------+----------+--------------------+\n",
            "only showing top 20 rows\n",
            "\n"
          ]
        }
      ],
      "source": [
        "# Load a function that allows us to select columns\n",
        "from pyspark.sql.functions import col\n",
        "\n",
        "# Filter for only columns with active users\n",
        "cleaned_df = dropna_df.filter(col(\"active_user\") == True)\n",
        "cleaned_df.show()"
      ]
    },
    {
      "cell_type": "code",
      "execution_count": 9,
      "metadata": {
        "id": "qVzKY3EjmUoj",
        "outputId": "ab858835-f6e3-4cf8-ce95-37dcca9f58f8",
        "colab": {
          "base_uri": "https://localhost:8080/"
        }
      },
      "outputs": [
        {
          "output_type": "stream",
          "name": "stdout",
          "text": [
            "+----------+----------+----------+------------+\n",
            "|billing_id|first_name| last_name|    username|\n",
            "+----------+----------+----------+------------+\n",
            "|         2|   Bastian|   Francke|   bfrancke1|\n",
            "|         4|      Zena|     Saker|     zsaker3|\n",
            "|         5|      Jere|     Argue|     jargue4|\n",
            "|         6|    Jethro|  Creeghan|  jcreeghan5|\n",
            "|         8| Anastasie|      Gant|      agant7|\n",
            "|        13|      Roth|     Anton|     rantonc|\n",
            "|        14|     Jareb|       Tod|       jtodd|\n",
            "|        18|    Carney|  Stiddard|  cstiddardh|\n",
            "|        19|    Milzie|   Blizard|   mblizardi|\n",
            "|        22|     Chuck|     Davio|     cdaviol|\n",
            "|        25|    Maisie|      Pack|      mpacko|\n",
            "|        27|   Trueman|   Spering|   tsperingq|\n",
            "|        28|   Rosalyn|  Gascoyen|  rgascoyenr|\n",
            "|        29|       Lev|     Basey|     lbaseys|\n",
            "|        32|      Jean|   McPhail|   jmcphailv|\n",
            "|        33|    Robbyn|   Macvain|   rmacvainw|\n",
            "|        35|    Binnie|   de Grey|    bdegreyy|\n",
            "|        36|   Phineas|Hindenburg|phindenburgz|\n",
            "|        37|   Pandora|   Tugwell|  ptugwell10|\n",
            "|        38|    Dugald|    Jeduch|   djeduch11|\n",
            "+----------+----------+----------+------------+\n",
            "only showing top 20 rows\n",
            "\n"
          ]
        }
      ],
      "source": [
        "# Create a dataframe for the active_user table in our database\n",
        "clean_user_df = cleaned_df.select([\"billing_id\", \"first_name\", \"last_name\", \"username\"])\n",
        "clean_user_df.show()"
      ]
    },
    {
      "cell_type": "code",
      "execution_count": 10,
      "metadata": {
        "id": "K6mUzCILmj9X",
        "outputId": "62e7d65d-0509-445f-8683-f6fb8b22842b",
        "colab": {
          "base_uri": "https://localhost:8080/"
        }
      },
      "outputs": [
        {
          "output_type": "stream",
          "name": "stdout",
          "text": [
            "+----------+--------------------+--------------------+------------+\n",
            "|billing_id|      street_address|               state|    username|\n",
            "+----------+--------------------+--------------------+------------+\n",
            "|         2|14034 Summerview ...|          Washington|   bfrancke1|\n",
            "|         4|      3605 Gina Park|          California|     zsaker3|\n",
            "|         5|        8 Hauk Court|          New Jersey|     jargue4|\n",
            "|         6|29047 Internation...|               Texas|  jcreeghan5|\n",
            "|         8|   4193 Dexter Drive|            Michigan|      agant7|\n",
            "|        13|  143 Garrison Drive|District of Columbia|     rantonc|\n",
            "|        14|      468 Vidon Lane|           Tennessee|       jtodd|\n",
            "|        18|93776 Twin Pines ...|               Texas|  cstiddardh|\n",
            "|        19|      4 Corscot Park|            Kentucky|   mblizardi|\n",
            "|        22|       33 Elka Trail|              Nevada|     cdaviol|\n",
            "|        25|0407 Northfield P...|           Minnesota|      mpacko|\n",
            "|        27|98 Rockefeller Pa...|             Florida|   tsperingq|\n",
            "|        28|27211 Trailsway D...|            Delaware|  rgascoyenr|\n",
            "|        29|  6300 Dunning Trail|          California|     lbaseys|\n",
            "|        32|  397 Anderson Plaza|             Florida|   jmcphailv|\n",
            "|        33|   630 Texas Parkway|          Washington|   rmacvainw|\n",
            "|        35|     8 Lien Crossing|            Oklahoma|    bdegreyy|\n",
            "|        36|  5865 Fulton Circle|            Kentucky|phindenburgz|\n",
            "|        37|   85 Killdeer Place|            Missouri|  ptugwell10|\n",
            "|        38|9037 Cherokee Street|        Pennsylvania|   djeduch11|\n",
            "+----------+--------------------+--------------------+------------+\n",
            "only showing top 20 rows\n",
            "\n"
          ]
        }
      ],
      "source": [
        "# Create a billing dataframe for the billing_info table in our database\n",
        "clean_billing_df = cleaned_df.select([\"billing_id\", \"street_address\", \"state\", \"username\"])\n",
        "clean_billing_df.show()"
      ]
    },
    {
      "cell_type": "code",
      "execution_count": 11,
      "metadata": {
        "id": "wVcL8Ub7mmaY",
        "outputId": "c42ea177-1022-4c12-8c62-b26a9aa4c9dc",
        "colab": {
          "base_uri": "https://localhost:8080/"
        }
      },
      "outputs": [
        {
          "output_type": "stream",
          "name": "stdout",
          "text": [
            "+----------+--------------------+\n",
            "|billing_id|        cc_encrypted|\n",
            "+----------+--------------------+\n",
            "|         2|e1a4f985f7607bbae...|\n",
            "|         4|e1a4f985f7607bbae...|\n",
            "|         5|e1a4f985f7607bbae...|\n",
            "|         6|e1a4f985f7607bbae...|\n",
            "|         8|e1a4f985f7607bbae...|\n",
            "|        13|e1a4f985f7607bbae...|\n",
            "|        14|e1a4f985f7607bbae...|\n",
            "|        18|e1a4f985f7607bbae...|\n",
            "|        19|e1a4f985f7607bbae...|\n",
            "|        22|e1a4f985f7607bbae...|\n",
            "|        25|e1a4f985f7607bbae...|\n",
            "|        27|e1a4f985f7607bbae...|\n",
            "|        28|e1a4f985f7607bbae...|\n",
            "|        29|e1a4f985f7607bbae...|\n",
            "|        32|e1a4f985f7607bbae...|\n",
            "|        33|e1a4f985f7607bbae...|\n",
            "|        35|e1a4f985f7607bbae...|\n",
            "|        36|e1a4f985f7607bbae...|\n",
            "|        37|e1a4f985f7607bbae...|\n",
            "|        38|e1a4f985f7607bbae...|\n",
            "+----------+--------------------+\n",
            "only showing top 20 rows\n",
            "\n"
          ]
        }
      ],
      "source": [
        "# Create a payment dataframe for the payment_info table in our database\n",
        "clean_payment_df = cleaned_df.select([\"billing_id\", \"cc_encrypted\"])\n",
        "clean_payment_df.show()"
      ]
    },
    {
      "cell_type": "markdown",
      "metadata": {
        "id": "kQgPpNnVnRwh"
      },
      "source": [
        "Postgres Setup"
      ]
    },
    {
      "cell_type": "code",
      "execution_count": 12,
      "metadata": {
        "id": "985Vl1dtmpVU"
      },
      "outputs": [],
      "source": [
        "# IMPORTANT: Replace each of these parameters with your own values for your AWS RDS instance\n",
        "my_aws_endpoint = 'bigdatadatabase.ceb0jyms5b5v.us-east-1.rds.amazonaws.com' # This is my value; please replace with your own\n",
        "my_aws_port_number = '5432' # Your value is likely the same, but please double check\n",
        "my_aws_database_name = 'BigDataDataBase' # This is my value; please replace with your own\n",
        "my_aws_username = 'bigdata' # Your value is likely the same, but please double check\n",
        "my_aws_password = 'homework' # This is my value; please replace with your own\n"
      ]
    },
    {
      "cell_type": "code",
      "source": [
        "# Define the connection string\n",
        "jdbc_url=f'jdbc:postgresql://{my_aws_endpoint}:{my_aws_port_number}/{my_aws_database_name}'\n",
        "\n",
        "# Set up the configuration parameters\n",
        "config = {\"user\": f'{my_aws_username}', \n",
        "          \"password\": f'{my_aws_password}', \n",
        "          \"driver\":\"org.postgresql.Driver\"}\n",
        "\n",
        "# Choose to overwrite the existing data. Note that 'append' is probably a smarter choice\n",
        "# in those situations where the PostgreSQL schema automatically generates the primary key. \n",
        "#  But 'overwrite' works best for this little demo. \n",
        "mode = 'overwrite' \n"
      ],
      "metadata": {
        "id": "aemKXQGz73xR"
      },
      "execution_count": 13,
      "outputs": []
    },
    {
      "cell_type": "code",
      "execution_count": null,
      "metadata": {
        "id": "9yyZgvcUnaNN"
      },
      "outputs": [],
      "source": [
        "# Write the dataframe to the appropriate table in your PostgreSQL RDS\n",
        "\n",
        "clean_user_df.write.jdbc(url=jdbc_url, table='active_user', mode=mode, properties=config)"
      ]
    },
    {
      "cell_type": "code",
      "execution_count": null,
      "metadata": {
        "id": "8rsTf2kmna3V"
      },
      "outputs": [],
      "source": [
        "# Write the dataframe to the appropriate table in your PostgreSQL RDS\n",
        "\n",
        "clean_billing_df.write.jdbc(url=jdbc_url, table='billing_info', mode=mode, properties=config)"
      ]
    },
    {
      "cell_type": "code",
      "execution_count": null,
      "metadata": {
        "id": "9q6Bm3kAncqx"
      },
      "outputs": [],
      "source": [
        "# Write the dataframe to the appropriate table in your PostgreSQL RDS\n",
        "\n",
        "clean_payment_df.write.jdbc(url=jdbc_url, table='payment_info', mode=mode, properties=config)"
      ]
    },
    {
      "cell_type": "code",
      "execution_count": null,
      "metadata": {
        "id": "Kx3hMnlAD5FA"
      },
      "outputs": [],
      "source": []
    }
  ],
  "metadata": {
    "colab": {
      "provenance": [],
      "include_colab_link": true
    },
    "kernelspec": {
      "display_name": "Python 3",
      "language": "python",
      "name": "python3"
    },
    "language_info": {
      "codemirror_mode": {
        "name": "ipython",
        "version": 3
      },
      "file_extension": ".py",
      "mimetype": "text/x-python",
      "name": "python",
      "nbconvert_exporter": "python",
      "pygments_lexer": "ipython3",
      "version": "3.8.8"
    },
    "latex_envs": {
      "LaTeX_envs_menu_present": true,
      "autoclose": false,
      "autocomplete": true,
      "bibliofile": "biblio.bib",
      "cite_by": "apalike",
      "current_citInitial": 1,
      "eqLabelWithNumbers": true,
      "eqNumInitial": 1,
      "hotkeys": {
        "equation": "Ctrl-E",
        "itemize": "Ctrl-I"
      },
      "labels_anchors": false,
      "latex_user_defs": false,
      "report_style_numbering": false,
      "user_envs_cfg": false
    }
  },
  "nbformat": 4,
  "nbformat_minor": 0
}